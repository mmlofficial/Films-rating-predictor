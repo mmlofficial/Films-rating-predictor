{
 "cells": [
  {
   "cell_type": "code",
   "execution_count": 1,
   "metadata": {
    "tags": []
   },
   "outputs": [
    {
     "output_type": "stream",
     "name": "stderr",
     "text": "[nltk_data] Downloading package stopwords to\n[nltk_data]     C:\\Users\\Maxim\\AppData\\Roaming\\nltk_data...\n[nltk_data]   Package stopwords is already up-to-date!\n"
    }
   ],
   "source": [
    "import pandas as pd\n",
    "import numpy as np\n",
    "import glob\n",
    "import os\n",
    "import codecs\n",
    "from string import punctuation\n",
    "\n",
    "import spacy\n",
    "import re\n",
    "nlp = spacy.load('en')\n",
    "\n",
    "import nltk\n",
    "nltk.download(\"stopwords\")\n",
    "from nltk.corpus import stopwords\n",
    "english_stopwords = stopwords.words(\"english\")\n",
    "\n",
    "digits = '1234567890'\n",
    "junk = digits + punctuation + ' '\n",
    "tt = str.maketrans(dict.fromkeys(junk))"
   ]
  },
  {
   "cell_type": "code",
   "execution_count": 25,
   "metadata": {},
   "outputs": [],
   "source": [
    "def clean_string(text): #bad\n",
    "    doc = nlp(text.lower())\n",
    "    tok = []\n",
    "    for token in doc:\n",
    "        t = token.lemma_\n",
    "        t = t.translate(tt)\n",
    "        if not token.is_stop and t not in junk and t != '':\n",
    "            tok.append(t)\n",
    "\n",
    "    return ' '.join(tok)"
   ]
  },
  {
   "cell_type": "code",
   "execution_count": 45,
   "metadata": {},
   "outputs": [
    {
     "output_type": "execute_result",
     "data": {
      "text/plain": "'kareena kapoor bikini hmmmmmmmmbr br akshay kumar br br anil kapoor br br maybe saif br br kareena kapoor bikini br br good banner br br kareena kapoor bikini br br good reason movie br br think people jbj br br forget thatbr br criticism half movie bad br br intrigue feel sort irritation mix excitement feel see guy ritchie movie like lock stock snatchbr br kareena kapoor sizzle skinny model sort waybr br akshay kumar akshay kumar bebr br anil kapoor annoying kind funny forget time understand himbr br saif sidey ala main khiladi againbr br occasional laugh chuckle goosebump kareena saif love story kareena rain bike hmmmmmmmbr br half promise deliver br br make second half unbearable br br cheer interval come wet kareena people think thing comebr br instead treat mind numb torture difficult wordsbr br saif suddenly seam like comic sidekick br br suddenly sexy kareena look anorexic realise second floor face look big body girl notice guy notice second floor observationbr br anil kapoor sidekick nervesbr br akshay kumar carry madness extent intolerable whilebr br subject absurdity otherbr br deserve br br collective gasp go trough audience song second half ordinary movie itbr br cannot relieve trauma anymore br br conclusionbr br movie start buzz feel turn high end slowly move headache rapidly turn blow migraine attackbr br please watch movie reason academic interestbr br cast akshay kumar halfbr br confusionneed book fill thisbr br cast second half need page fill thisbr br total try avoid extreme mistake movie unwatchable matter decent half'"
     },
     "metadata": {},
     "execution_count": 45
    }
   ],
   "source": [
    "sent = 'kareena kapoor bikini hmmmmmmmm.<br /><br />akshay kumar ... <br /><br />anil kapoor .... <br /><br />maybe saif .... <br /><br />kareena kapoor bikini ..... <br /><br />good banner .. <br /><br />kareena kapoor bikini ..... <br /><br />not good reason movie .... <br /><br />or think ........ not people jbj ... <br /><br />why o forget that.<br /><br />for criticism half movie bad ... <br /><br />there intrigue feel sort irritation mix excitement feel see guy ritchie movie like lock stock snatch.<br /><br />kareena kapoor sizzle skinny model sort way.<br /><br />akshay kumar akshay kumar be.<br /><br />anil kapoor annoying kind funny forget time understand him.<br /><br />saif sidey ala main khiladi .. again.<br /><br />there occasional laugh chuckle goosebump kareena saif love story kareena rain bike hmmmmmmm).<br /><br />but half promise deliver ..... <br /><br />which make second half unbearable .... <br /><br />there cheer interval come wet kareena people think thing come.<br /><br />instead treat mind numb torture difficult words.<br /><br />saif suddenly seam like comic sidekick ... <br /><br />suddenly sexy kareena look anorexic realise second floor face look big body girl notice guy notice second floor observation).<br /><br />anil kapoor sidekick nerves.<br /><br />akshay kumar carry madness extent intolerable while.<br /><br />all subject absurdity other.<br /><br />why deserve ... <br /><br />a collective gasp go trough audience song second half ordinary movie it.<br /><br />cannot relieve trauma anymore .... <br /><br />conclusion.<br /><br />this movie start buzz feel turn high end slowly move headache rapidly turn blow migraine attack.<br /><br />please watch movie reason academic interest.<br /><br />+s cast akshay kumar half.<br /><br />+/-s confusion.(need book fill this).<br /><br />+s cast second half need page fill this).<br /><br />total 3/10 be try avoid 2s extreme mistake movie unwatchable matter decent half,2,0'\n",
    "clean_string(sent)"
   ]
  },
  {
   "cell_type": "code",
   "execution_count": 2,
   "metadata": {},
   "outputs": [],
   "source": [
    "def clean_string(text): #best\n",
    "    tokens = text.lower().split(' ')\n",
    "    tok = []\n",
    "    for token in tokens:\n",
    "        t = token.translate(tt)\n",
    "        if t not in english_stopwords and t != ' ' and t != '':\n",
    "            tok.append(t)\n",
    "    return ' '.join(tok)"
   ]
  },
  {
   "cell_type": "code",
   "execution_count": null,
   "metadata": {},
   "outputs": [],
   "source": []
  },
  {
   "cell_type": "code",
   "execution_count": null,
   "metadata": {},
   "outputs": [],
   "source": []
  },
  {
   "cell_type": "code",
   "execution_count": null,
   "metadata": {},
   "outputs": [],
   "source": []
  },
  {
   "cell_type": "code",
   "execution_count": 3,
   "metadata": {},
   "outputs": [
    {
     "output_type": "execute_result",
     "data": {
      "text/plain": "21"
     },
     "metadata": {},
     "execution_count": 3
    }
   ],
   "source": [
    "f_train = open('train.csv', 'w', encoding='utf-8')\n",
    "f_train.write('text,rating,positive\\n')\n",
    "f_test = open('test.csv', 'w', encoding='utf-8')\n",
    "f_test.write('text,rating,positive\\n')"
   ]
  },
  {
   "cell_type": "code",
   "execution_count": 4,
   "metadata": {},
   "outputs": [],
   "source": [
    "start_dir = os.getcwd()"
   ]
  },
  {
   "cell_type": "code",
   "execution_count": 5,
   "metadata": {},
   "outputs": [],
   "source": [
    "os.chdir(start_dir+r'\\aclImdb\\train\\neg')"
   ]
  },
  {
   "cell_type": "code",
   "execution_count": 6,
   "metadata": {
    "tags": []
   },
   "outputs": [],
   "source": [
    "for filename in glob.glob('*.txt'):\n",
    "    rating = str(int(filename.split('.')[0].split('_')[1]) - 1)\n",
    "    with codecs.open(filename, \"r\", encoding=\"utf-8\") as f:\n",
    "        string = clean_string(f.readline())\n",
    "        string += ',' + rating + ',0\\n'\n",
    "        f_train.write(string)\n"
   ]
  },
  {
   "cell_type": "code",
   "execution_count": 7,
   "metadata": {},
   "outputs": [],
   "source": [
    "os.chdir(start_dir+r'\\aclImdb\\train\\pos')"
   ]
  },
  {
   "cell_type": "code",
   "execution_count": 8,
   "metadata": {},
   "outputs": [],
   "source": [
    "for filename in glob.glob('*.txt'):\n",
    "    rating = str(int(filename.split('.')[0].split('_')[1]) - 3)\n",
    "    with codecs.open(filename, \"r\", encoding=\"utf-8\") as f:\n",
    "        string = clean_string(f.readline())\n",
    "        string += ',' + rating + ',1\\n'\n",
    "        f_train.write(string)\n"
   ]
  },
  {
   "cell_type": "code",
   "execution_count": 9,
   "metadata": {},
   "outputs": [],
   "source": [
    "f_train.close()"
   ]
  },
  {
   "cell_type": "code",
   "execution_count": 10,
   "metadata": {},
   "outputs": [],
   "source": [
    "os.chdir(start_dir+r'\\aclImdb\\test\\neg')"
   ]
  },
  {
   "cell_type": "code",
   "execution_count": 11,
   "metadata": {},
   "outputs": [],
   "source": [
    "for filename in glob.glob('*.txt'):\n",
    "    rating = str(int(filename.split('.')[0].split('_')[1]) - 1)\n",
    "    with codecs.open(filename, \"r\", encoding=\"utf-8\") as f:\n",
    "        string = clean_string(f.readline())\n",
    "        string += ',' + rating + ',0\\n'\n",
    "        f_test.write(string)\n"
   ]
  },
  {
   "cell_type": "code",
   "execution_count": 12,
   "metadata": {},
   "outputs": [],
   "source": [
    "os.chdir(start_dir+r'\\aclImdb\\test\\pos')"
   ]
  },
  {
   "cell_type": "code",
   "execution_count": 13,
   "metadata": {},
   "outputs": [],
   "source": [
    "for filename in glob.glob('*.txt'):\n",
    "    rating = str(int(filename.split('.')[0].split('_')[1]) - 3)\n",
    "    with codecs.open(filename, \"r\", encoding=\"utf-8\") as f:\n",
    "        string = clean_string(f.readline())\n",
    "        string += ',' + rating + ',1\\n'\n",
    "        f_test.write(string)"
   ]
  },
  {
   "cell_type": "code",
   "execution_count": 14,
   "metadata": {},
   "outputs": [],
   "source": [
    "f_test.close()"
   ]
  },
  {
   "cell_type": "code",
   "execution_count": 15,
   "metadata": {},
   "outputs": [],
   "source": [
    "os.chdir(start_dir)"
   ]
  },
  {
   "cell_type": "code",
   "execution_count": 16,
   "metadata": {},
   "outputs": [],
   "source": [
    "df = pd.read_csv('train.csv')"
   ]
  },
  {
   "cell_type": "code",
   "execution_count": 17,
   "metadata": {},
   "outputs": [
    {
     "output_type": "execute_result",
     "data": {
      "text/plain": "array([2, 3, 0, 1, 6, 5, 7, 4], dtype=int64)"
     },
     "metadata": {},
     "execution_count": 17
    }
   ],
   "source": [
    "df.rating.unique()"
   ]
  },
  {
   "cell_type": "code",
   "execution_count": 3,
   "metadata": {},
   "outputs": [],
   "source": [
    "f_train = open('train_dirty.csv', 'w', encoding='utf-8')\n",
    "f_train.write('text\\n')\n",
    "f_test = open('test_dirty.csv', 'w', encoding='utf-8')\n",
    "f_test.write('text\\n')\n",
    "\n",
    "start_dir = os.getcwd()\n",
    "os.chdir(start_dir+r'\\aclImdb\\train\\neg')\n",
    "\n",
    "for filename in glob.glob('*.txt'):\n",
    "    rating = str(int(filename.split('.')[0].split('_')[1]) - 1)\n",
    "    with codecs.open(filename, \"r\", encoding=\"utf-8\") as f:\n",
    "        string = f.readline()\n",
    "        string += '\\n'\n",
    "        f_train.write(string)\n",
    "\n",
    "os.chdir(start_dir+r'\\aclImdb\\train\\pos')\n",
    "for filename in glob.glob('*.txt'):\n",
    "    rating = str(int(filename.split('.')[0].split('_')[1]) - 3)\n",
    "    with codecs.open(filename, \"r\", encoding=\"utf-8\") as f:\n",
    "        string = f.readline()\n",
    "        string += '\\n'\n",
    "        f_train.write(string)\n",
    "\n",
    "os.chdir(start_dir+r'\\aclImdb\\test\\neg')\n",
    "\n",
    "for filename in glob.glob('*.txt'):\n",
    "    rating = str(int(filename.split('.')[0].split('_')[1]) - 1)\n",
    "    with codecs.open(filename, \"r\", encoding=\"utf-8\") as f:\n",
    "        string = f.readline()\n",
    "        string += '\\n'\n",
    "        f_test.write(string)\n",
    "\n",
    "os.chdir(start_dir+r'\\aclImdb\\test\\pos')\n",
    "for filename in glob.glob('*.txt'):\n",
    "    rating = str(int(filename.split('.')[0].split('_')[1]) - 3)\n",
    "    with codecs.open(filename, \"r\", encoding=\"utf-8\") as f:\n",
    "        string = f.readline()\n",
    "        string += '\\n'\n",
    "        f_test.write(string)\n",
    "\n",
    "f_test.close()\n",
    "f_train.close()\n",
    "os.chdir(start_dir)"
   ]
  }
 ],
 "metadata": {
  "language_info": {
   "codemirror_mode": {
    "name": "ipython",
    "version": 3
   },
   "file_extension": ".py",
   "mimetype": "text/x-python",
   "name": "python",
   "nbconvert_exporter": "python",
   "pygments_lexer": "ipython3",
   "version": "3.6.7-final"
  },
  "orig_nbformat": 2,
  "kernelspec": {
   "name": "python36764bitbe546299d82448a394e90b311f92f7eb",
   "display_name": "Python 3.6.7 64-bit"
  }
 },
 "nbformat": 4,
 "nbformat_minor": 2
}