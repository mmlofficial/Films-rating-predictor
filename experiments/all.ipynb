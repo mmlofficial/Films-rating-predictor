{
 "cells": [
  {
   "cell_type": "code",
   "execution_count": 1,
   "metadata": {},
   "outputs": [],
   "source": [
    "import pandas as pd\n",
    "import numpy as np\n",
    "\n",
    "from sklearn import preprocessing, decomposition, model_selection, metrics, pipeline\n",
    "from sklearn.model_selection import GridSearchCV\n",
    "from sklearn.feature_extraction.text import TfidfVectorizer, CountVectorizer\n",
    "from sklearn.decomposition import TruncatedSVD\n",
    "from sklearn.linear_model import LogisticRegression\n",
    "from sklearn.model_selection import train_test_split\n",
    "from sklearn.naive_bayes import MultinomialNB\n",
    "\n",
    "from sklearn.svm import LinearSVC\n",
    "from sklearn.ensemble import AdaBoostClassifier\n",
    "#import xgboost as xgb\n",
    "from tqdm import tqdm\n",
    "from sklearn.svm import SVC\n",
    "\n",
    "#import pickle5"
   ]
  },
  {
   "cell_type": "code",
   "execution_count": 2,
   "metadata": {},
   "outputs": [],
   "source": [
    "def multiclass_logloss(actual, predicted, eps=1e-15):\n",
    "    \"\"\"Multi class version of Logarithmic Loss metric.\n",
    "    :param actual: Array containing the actual target classes\n",
    "    :param predicted: Matrix with class predictions, one probability per class\n",
    "    \"\"\"\n",
    "    # Convert 'actual' to a binary array if it's not already:\n",
    "    if len(actual.shape) == 1:\n",
    "        actual2 = np.zeros((actual.shape[0], predicted.shape[1]))\n",
    "        for i, val in enumerate(actual):\n",
    "            actual2[i, val] = 1\n",
    "        actual = actual2\n",
    "\n",
    "    clip = np.clip(predicted, eps, 1 - eps)\n",
    "    rows = actual.shape[0]\n",
    "    vsota = np.sum(actual * np.log(clip))\n",
    "    return -1.0 / rows * vsota"
   ]
  },
  {
   "cell_type": "code",
   "execution_count": 7,
   "metadata": {},
   "outputs": [],
   "source": [
    "df_train = pd.read_csv('train.csv')\n",
    "df_test = pd.read_csv('test.csv')"
   ]
  },
  {
   "cell_type": "code",
   "execution_count": 8,
   "metadata": {},
   "outputs": [
    {
     "output_type": "execute_result",
     "data": {
      "text/plain": "                                                    text  rating  positive\n0      story man unnatural feelings pig starts openin...       2         0\n1      airport starts brand new luxury plane loaded v...       3         0\n2      film lacked something couldnt put finger first...       3         0\n3      sorry everyone know supposed art film wow hand...       0         0\n4      little parents took along theater see interior...       0         0\n...                                                  ...     ...       ...\n24995  seeing vote average pretty low fact clerk vide...       6         1\n24996  plot wretched unbelievable twists however chem...       5         1\n24997  amazed movieand others average stars lower cra...       7         1\n24998  christmas together actually came time ive rais...       5         1\n24999  workingclass romantic drama director martin ri...       4         1\n\n[25000 rows x 3 columns]",
      "text/html": "<div>\n<style scoped>\n    .dataframe tbody tr th:only-of-type {\n        vertical-align: middle;\n    }\n\n    .dataframe tbody tr th {\n        vertical-align: top;\n    }\n\n    .dataframe thead th {\n        text-align: right;\n    }\n</style>\n<table border=\"1\" class=\"dataframe\">\n  <thead>\n    <tr style=\"text-align: right;\">\n      <th></th>\n      <th>text</th>\n      <th>rating</th>\n      <th>positive</th>\n    </tr>\n  </thead>\n  <tbody>\n    <tr>\n      <th>0</th>\n      <td>story man unnatural feelings pig starts openin...</td>\n      <td>2</td>\n      <td>0</td>\n    </tr>\n    <tr>\n      <th>1</th>\n      <td>airport starts brand new luxury plane loaded v...</td>\n      <td>3</td>\n      <td>0</td>\n    </tr>\n    <tr>\n      <th>2</th>\n      <td>film lacked something couldnt put finger first...</td>\n      <td>3</td>\n      <td>0</td>\n    </tr>\n    <tr>\n      <th>3</th>\n      <td>sorry everyone know supposed art film wow hand...</td>\n      <td>0</td>\n      <td>0</td>\n    </tr>\n    <tr>\n      <th>4</th>\n      <td>little parents took along theater see interior...</td>\n      <td>0</td>\n      <td>0</td>\n    </tr>\n    <tr>\n      <th>...</th>\n      <td>...</td>\n      <td>...</td>\n      <td>...</td>\n    </tr>\n    <tr>\n      <th>24995</th>\n      <td>seeing vote average pretty low fact clerk vide...</td>\n      <td>6</td>\n      <td>1</td>\n    </tr>\n    <tr>\n      <th>24996</th>\n      <td>plot wretched unbelievable twists however chem...</td>\n      <td>5</td>\n      <td>1</td>\n    </tr>\n    <tr>\n      <th>24997</th>\n      <td>amazed movieand others average stars lower cra...</td>\n      <td>7</td>\n      <td>1</td>\n    </tr>\n    <tr>\n      <th>24998</th>\n      <td>christmas together actually came time ive rais...</td>\n      <td>5</td>\n      <td>1</td>\n    </tr>\n    <tr>\n      <th>24999</th>\n      <td>workingclass romantic drama director martin ri...</td>\n      <td>4</td>\n      <td>1</td>\n    </tr>\n  </tbody>\n</table>\n<p>25000 rows × 3 columns</p>\n</div>"
     },
     "metadata": {},
     "execution_count": 8
    }
   ],
   "source": [
    "df_train"
   ]
  },
  {
   "cell_type": "code",
   "execution_count": 9,
   "metadata": {},
   "outputs": [],
   "source": [
    "X_train = df_train.text\n",
    "X_test = df_test.text\n",
    "y_train = df_train.rating\n",
    "y_test = df_test.rating"
   ]
  },
  {
   "cell_type": "code",
   "execution_count": 10,
   "metadata": {},
   "outputs": [],
   "source": [
    "X_train, X_val, y_train, y_val = train_test_split(X_train, y_train, random_state=42, test_size = 0.1, shuffle = True)"
   ]
  },
  {
   "cell_type": "code",
   "execution_count": 11,
   "metadata": {},
   "outputs": [],
   "source": [
    "tfv = TfidfVectorizer(min_df=10, max_df=0.95, strip_accents='unicode', analyzer='word',token_pattern=r'\\w{1,}', ngram_range=(1, 2), sublinear_tf=True)\n",
    "\n",
    "tfv.fit(list(X_train) + list(X_val) + list(X_test))\n",
    "X_train_tfv =  tfv.transform(X_train) \n",
    "X_val_tfv = tfv.transform(X_val)\n",
    "X_test_tfv = tfv.transform(X_test)"
   ]
  },
  {
   "cell_type": "code",
   "execution_count": 12,
   "metadata": {},
   "outputs": [
    {
     "output_type": "execute_result",
     "data": {
      "text/plain": "0.4576"
     },
     "metadata": {},
     "execution_count": 12
    }
   ],
   "source": [
    "clf = LogisticRegression(C=1.2)\n",
    "clf.fit(X_train_tfv, y_train)\n",
    "\n",
    "predictions = clf.predict(X_val_tfv)\n",
    "metrics.accuracy_score(y_val, predictions)"
   ]
  },
  {
   "cell_type": "code",
   "execution_count": 25,
   "metadata": {},
   "outputs": [
    {
     "output_type": "execute_result",
     "data": {
      "text/plain": "0.4312"
     },
     "metadata": {},
     "execution_count": 25
    }
   ],
   "source": [
    "predictions = clf.predict(X_test_tfv)\n",
    "metrics.accuracy_score(y_test, predictions)"
   ]
  },
  {
   "cell_type": "code",
   "execution_count": 26,
   "metadata": {},
   "outputs": [
    {
     "output_type": "execute_result",
     "data": {
      "text/plain": "0.2967648164440115"
     },
     "metadata": {},
     "execution_count": 26
    }
   ],
   "source": [
    "metrics.f1_score(y_test, predictions, average='macro')"
   ]
  },
  {
   "cell_type": "code",
   "execution_count": 28,
   "metadata": {},
   "outputs": [
    {
     "output_type": "execute_result",
     "data": {
      "text/plain": "0.8517777777777777"
     },
     "metadata": {},
     "execution_count": 28
    }
   ],
   "source": [
    "predictions = clf.predict(X_train_tfv)\n",
    "metrics.accuracy_score(y_train, predictions)"
   ]
  },
  {
   "cell_type": "code",
   "execution_count": 29,
   "metadata": {},
   "outputs": [
    {
     "output_type": "execute_result",
     "data": {
      "text/plain": "0.8479154505548965"
     },
     "metadata": {},
     "execution_count": 29
    }
   ],
   "source": [
    "metrics.f1_score(y_train, predictions, average='macro')"
   ]
  },
  {
   "cell_type": "code",
   "execution_count": 33,
   "metadata": {},
   "outputs": [
    {
     "output_type": "execute_result",
     "data": {
      "text/plain": "0.3908"
     },
     "metadata": {},
     "execution_count": 33
    }
   ],
   "source": [
    "clf = LinearSVC(C=5)\n",
    "clf.fit(X_train_tfv, y_train)\n",
    "predictions = clf.predict(X_val_tfv)\n",
    "\n",
    "metrics.accuracy_score(y_val, predictions)"
   ]
  },
  {
   "cell_type": "code",
   "execution_count": 34,
   "metadata": {},
   "outputs": [
    {
     "output_type": "execute_result",
     "data": {
      "text/plain": "0.3622"
     },
     "metadata": {},
     "execution_count": 34
    }
   ],
   "source": [
    "predictions = clf.predict(X_test_tfv)\n",
    "metrics.accuracy_score(y_test, predictions)"
   ]
  },
  {
   "cell_type": "code",
   "execution_count": 42,
   "metadata": {},
   "outputs": [
    {
     "output_type": "execute_result",
     "data": {
      "text/plain": "0.9175555555555556"
     },
     "metadata": {},
     "execution_count": 42
    }
   ],
   "source": [
    "predictions = clf.predict(X_train_tfv)\n",
    "metrics.accuracy_score(y_train, predictions)"
   ]
  },
  {
   "cell_type": "code",
   "execution_count": 35,
   "metadata": {},
   "outputs": [],
   "source": [
    "ctv = CountVectorizer(min_df = 3, max_df = 0.95, analyzer='word',token_pattern=r'\\w{1,}', ngram_range=(1, 2))\n",
    "\n",
    "ctv.fit(list(X_train) + list(X_val) + list(X_test))\n",
    "X_train_ctv =  ctv.transform(X_train) \n",
    "X_val_ctv = ctv.transform(X_val)\n",
    "X_test_ctv = ctv.transform(X_test)"
   ]
  },
  {
   "cell_type": "code",
   "execution_count": 38,
   "metadata": {},
   "outputs": [
    {
     "output_type": "execute_result",
     "data": {
      "text/plain": "0.3972"
     },
     "metadata": {},
     "execution_count": 38
    }
   ],
   "source": [
    "clf = LogisticRegression(C=1.2)\n",
    "clf.fit(X_train_ctv, y_train)\n",
    "\n",
    "predictions = clf.predict(X_val_ctv)\n",
    "metrics.accuracy_score(y_val, predictions)"
   ]
  },
  {
   "cell_type": "code",
   "execution_count": 39,
   "metadata": {},
   "outputs": [
    {
     "output_type": "execute_result",
     "data": {
      "text/plain": "0.3798"
     },
     "metadata": {},
     "execution_count": 39
    }
   ],
   "source": [
    "predictions = clf.predict(X_test_ctv)\n",
    "metrics.accuracy_score(y_test, predictions)"
   ]
  },
  {
   "cell_type": "code",
   "execution_count": 88,
   "metadata": {},
   "outputs": [
    {
     "output_type": "execute_result",
     "data": {
      "text/plain": "0.9998666666666667"
     },
     "metadata": {},
     "execution_count": 88
    }
   ],
   "source": [
    "predictions = clf.predict(X_train_ctv)\n",
    "metrics.accuracy_score(y_train, predictions)"
   ]
  },
  {
   "cell_type": "code",
   "execution_count": 41,
   "metadata": {},
   "outputs": [
    {
     "output_type": "execute_result",
     "data": {
      "text/plain": "0.3844"
     },
     "metadata": {},
     "execution_count": 41
    }
   ],
   "source": [
    "clf = MultinomialNB()\n",
    "clf.fit(X_train_tfv, y_train)\n",
    "predictions = clf.predict(X_val_tfv)\n",
    "metrics.accuracy_score(y_val, predictions)"
   ]
  },
  {
   "cell_type": "code",
   "execution_count": 25,
   "metadata": {},
   "outputs": [
    {
     "output_type": "execute_result",
     "data": {
      "text/plain": "1.074762409160698"
     },
     "metadata": {},
     "execution_count": 25
    }
   ],
   "source": [
    "clf = LogisticRegression(C=1.0)\n",
    "clf.fit(X_train_tfv, y_train)\n",
    "predictions = clf.predict_proba(X_train_tfv)\n",
    "\n",
    "multiclass_logloss(y_train, predictions)"
   ]
  },
  {
   "cell_type": "code",
   "execution_count": 26,
   "metadata": {},
   "outputs": [
    {
     "output_type": "execute_result",
     "data": {
      "text/plain": "1.604938378272961"
     },
     "metadata": {},
     "execution_count": 26
    }
   ],
   "source": [
    "predictions = clf.predict_proba(X_test_tfv)\n",
    "multiclass_logloss(y_test, predictions)"
   ]
  },
  {
   "cell_type": "code",
   "execution_count": 27,
   "metadata": {},
   "outputs": [],
   "source": [
    "svd = decomposition.TruncatedSVD(n_components=120)\n",
    "svd.fit(X_train_tfv)\n",
    "X_train_svd = svd.transform(X_train_tfv)\n",
    "X_val_svd = svd.transform(X_val_tfv)\n",
    "X_test_svd = svd.transform(X_test_tfv)\n",
    "\n",
    "scl = preprocessing.StandardScaler()\n",
    "scl.fit(X_train_svd)\n",
    "X_train_svd_scl = scl.transform(X_train_svd)\n",
    "X_val_svd_scl = scl.transform(X_val_svd)"
   ]
  },
  {
   "cell_type": "code",
   "execution_count": 31,
   "metadata": {},
   "outputs": [],
   "source": [
    "clf = SVC(C=1.0, probability=True) # since we need probabilities\n",
    "clf.fit(X_train_svd_scl, y_train)\n",
    "predictions = clf.predict_proba(X_val_svd_scl)"
   ]
  },
  {
   "cell_type": "code",
   "execution_count": 32,
   "metadata": {},
   "outputs": [
    {
     "output_type": "execute_result",
     "data": {
      "text/plain": "1.463663135076308"
     },
     "metadata": {},
     "execution_count": 32
    }
   ],
   "source": [
    "multiclass_logloss(y_val, predictions)"
   ]
  },
  {
   "cell_type": "code",
   "execution_count": 33,
   "metadata": {},
   "outputs": [
    {
     "output_type": "execute_result",
     "data": {
      "text/plain": "1.6038875416576863"
     },
     "metadata": {},
     "execution_count": 33
    }
   ],
   "source": [
    "clf = xgb.XGBClassifier(max_depth=7, n_estimators=200, colsample_bytree=0.8, subsample=0.8, nthread=10, learning_rate=0.1)\n",
    "clf.fit(X_train_tfv.tocsc(), y_train)\n",
    "predictions = clf.predict_proba(X_val_tfv.tocsc())\n",
    "\n",
    "multiclass_logloss(y_val, predictions)"
   ]
  },
  {
   "cell_type": "code",
   "execution_count": 34,
   "metadata": {},
   "outputs": [
    {
     "output_type": "execute_result",
     "data": {
      "text/plain": "0.39344"
     },
     "metadata": {},
     "execution_count": 34
    }
   ],
   "source": [
    "predictions = clf.predict(X_test_tfv.tocsc())\n",
    "\n",
    "metrics.accuracy_score(y_test, predictions)"
   ]
  },
  {
   "cell_type": "code",
   "execution_count": 37,
   "metadata": {},
   "outputs": [
    {
     "output_type": "execute_result",
     "data": {
      "text/plain": "0.2766583240627062"
     },
     "metadata": {},
     "execution_count": 37
    }
   ],
   "source": [
    "metrics.f1_score(y_test, predictions, average = 'macro')"
   ]
  },
  {
   "cell_type": "code",
   "execution_count": 14,
   "metadata": {},
   "outputs": [],
   "source": [
    "with open(\"TFIDF_Vectorizer.pkl\", 'wb') as f:\n",
    "    pickle5.dump(tfv, f)"
   ]
  },
  {
   "cell_type": "code",
   "execution_count": 15,
   "metadata": {},
   "outputs": [],
   "source": [
    "with open(\"Classifier.pkl\", 'wb') as f:\n",
    "    pickle5.dump(clf, f)"
   ]
  },
  {
   "cell_type": "code",
   "execution_count": 16,
   "metadata": {},
   "outputs": [
    {
     "output_type": "execute_result",
     "data": {
      "text/plain": "array([2, 7, 3, ..., 4, 7, 0], dtype=int64)"
     },
     "metadata": {},
     "execution_count": 16
    }
   ],
   "source": []
  },
  {
   "cell_type": "code",
   "execution_count": null,
   "metadata": {},
   "outputs": [],
   "source": []
  }
 ],
 "metadata": {
  "language_info": {
   "codemirror_mode": {
    "name": "ipython",
    "version": 3
   },
   "file_extension": ".py",
   "mimetype": "text/x-python",
   "name": "python",
   "nbconvert_exporter": "python",
   "pygments_lexer": "ipython3",
   "version": "3.6.7-final"
  },
  "orig_nbformat": 2,
  "kernelspec": {
   "name": "python36764bitbe546299d82448a394e90b311f92f7eb",
   "display_name": "Python 3.6.7 64-bit"
  }
 },
 "nbformat": 4,
 "nbformat_minor": 2
}