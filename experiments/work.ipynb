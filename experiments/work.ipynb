{
 "cells": [
  {
   "cell_type": "code",
   "execution_count": 1,
   "metadata": {},
   "outputs": [],
   "source": [
    "import pandas as pd\n",
    "import numpy as np\n",
    "from sklearn.feature_extraction.text import TfidfVectorizer\n",
    "from sklearn.model_selection import RandomizedSearchCV\n",
    "from sklearn.multiclass import OneVsRestClassifier\n",
    "from sklearn.svm import SVC\n",
    "\n",
    "from sklearn.linear_model import LogisticRegression\n",
    "from sklearn.naive_bayes import MultinomialNB\n",
    "from sklearn.ensemble import RandomForestClassifier\n",
    "\n",
    "from sklearn.metrics import accuracy_score, f1_score"
   ]
  },
  {
   "cell_type": "code",
   "execution_count": 2,
   "metadata": {},
   "outputs": [],
   "source": [
    "df_train = pd.read_csv('train.csv')\n",
    "df_test = pd.read_csv('test.csv')"
   ]
  },
  {
   "cell_type": "code",
   "execution_count": 3,
   "metadata": {},
   "outputs": [],
   "source": [
    "X_train = df_train.text\n",
    "y_train_r = df_train.rating\n",
    "y_train_p = df_train.positive\n",
    "X_test = df_test.text\n",
    "y_test_r = df_test.rating\n",
    "y_test_p = df_test.positive\n"
   ]
  },
  {
   "cell_type": "code",
   "execution_count": 4,
   "metadata": {},
   "outputs": [],
   "source": [
    "y_train_p = y_train_p.to_numpy()\n",
    "y_test_p = y_test_p.to_numpy()\n",
    "y_train_r = y_train_r.to_numpy()\n",
    "y_test_r = y_test_r.to_numpy()"
   ]
  },
  {
   "cell_type": "code",
   "execution_count": 5,
   "metadata": {},
   "outputs": [],
   "source": [
    "tfv = TfidfVectorizer()"
   ]
  },
  {
   "cell_type": "code",
   "execution_count": 6,
   "metadata": {},
   "outputs": [
    {
     "output_type": "execute_result",
     "data": {
      "text/plain": "TfidfVectorizer(analyzer='word', binary=False, decode_error='strict',\n                dtype=<class 'numpy.float64'>, encoding='utf-8',\n                input='content', lowercase=True, max_df=1.0, max_features=None,\n                min_df=1, ngram_range=(1, 1), norm='l2', preprocessor=None,\n                smooth_idf=True, stop_words=None, strip_accents=None,\n                sublinear_tf=False, token_pattern='(?u)\\\\b\\\\w\\\\w+\\\\b',\n                tokenizer=None, use_idf=True, vocabulary=None)"
     },
     "metadata": {},
     "execution_count": 6
    }
   ],
   "source": [
    "tfv.fit(X_train)"
   ]
  },
  {
   "cell_type": "code",
   "execution_count": 7,
   "metadata": {},
   "outputs": [],
   "source": [
    "X_train_tfv = tfv.transform(X_train)\n",
    "X_test_tfv = tfv.transform(X_test)"
   ]
  },
  {
   "cell_type": "markdown",
   "metadata": {},
   "source": [
    "### TfidfVectorizer + LogReg\n",
    "accuracy_score\n",
    "train - 0.97376\n",
    "test - 0.88272"
   ]
  },
  {
   "cell_type": "code",
   "execution_count": 62,
   "metadata": {},
   "outputs": [
    {
     "output_type": "execute_result",
     "data": {
      "text/plain": "0.88272"
     },
     "metadata": {},
     "execution_count": 62
    }
   ],
   "source": [
    "clf = LogisticRegression(C = 4.5)\n",
    "clf.fit(X_train_tfv, y_train_p)\n",
    "predictions = clf.predict(X_test_tfv)\n",
    "accuracy_score(y_test_p, predictions)"
   ]
  },
  {
   "cell_type": "code",
   "execution_count": 63,
   "metadata": {},
   "outputs": [
    {
     "output_type": "execute_result",
     "data": {
      "text/plain": "0.97376"
     },
     "metadata": {},
     "execution_count": 63
    }
   ],
   "source": [
    "clf = LogisticRegression(C = 4.5)\n",
    "clf.fit(X_train_tfv, y_train_p)\n",
    "predictions = clf.predict(X_train_tfv)\n",
    "accuracy_score(y_train_p, predictions)"
   ]
  },
  {
   "cell_type": "markdown",
   "metadata": {},
   "source": [
    "-----"
   ]
  },
  {
   "cell_type": "code",
   "execution_count": 53,
   "metadata": {},
   "outputs": [
    {
     "output_type": "execute_result",
     "data": {
      "text/plain": "0.88268"
     },
     "metadata": {},
     "execution_count": 53
    }
   ],
   "source": [
    "clf = LogisticRegression(C=4.5, penalty='l2', solver='saga', n_jobs=-1)\n",
    "clf.fit(X_train_tfv, y_train_p)\n",
    "predictions = clf.predict(X_test_tfv)\n",
    "accuracy_score(y_test_p, predictions)"
   ]
  },
  {
   "cell_type": "code",
   "execution_count": 55,
   "metadata": {},
   "outputs": [
    {
     "output_type": "execute_result",
     "data": {
      "text/plain": "0.97368"
     },
     "metadata": {},
     "execution_count": 55
    }
   ],
   "source": [
    "clf = LogisticRegression(C=4.5, penalty='l2', solver='saga', n_jobs=-1)\n",
    "clf.fit(X_train_tfv, y_train_p)\n",
    "predictions = clf.predict(X_train_tfv)\n",
    "accuracy_score(y_train_p, predictions)"
   ]
  },
  {
   "cell_type": "code",
   "execution_count": 14,
   "metadata": {},
   "outputs": [],
   "source": [
    "logistic = LogisticRegression(random_state=0, n_jobs=-1)\n",
    "distributions = dict(C=range(0, 10), penalty=['l2', 'l1'], solver=['saga', 'lbfgs'])\n",
    "clf = RandomizedSearchCV(logistic, distributions, random_state=0, scoring='accuracy')\n",
    "search = clf.fit(X_train_tfv, y_train_p)"
   ]
  },
  {
   "cell_type": "code",
   "execution_count": 15,
   "metadata": {},
   "outputs": [
    {
     "output_type": "execute_result",
     "data": {
      "text/plain": "0.86136"
     },
     "metadata": {},
     "execution_count": 15
    }
   ],
   "source": [
    "search.best_score_"
   ]
  },
  {
   "cell_type": "code",
   "execution_count": 16,
   "metadata": {},
   "outputs": [
    {
     "output_type": "execute_result",
     "data": {
      "text/plain": "{'solver': 'saga', 'penalty': 'l1', 'C': 2}"
     },
     "metadata": {},
     "execution_count": 16
    }
   ],
   "source": [
    "search.best_params_"
   ]
  },
  {
   "cell_type": "code",
   "execution_count": 90,
   "metadata": {},
   "outputs": [
    {
     "output_type": "execute_result",
     "data": {
      "text/plain": "{'mean_fit_time': array([4.76672099e+01, 2.88965297e+00, 4.23567777e+00, 1.74793963e+00,\n        2.46784707e+01, 3.09325218e-02, 3.64074416e+00, 2.91362286e-02,\n        3.93447373e+01, 4.27881789e+00]),\n 'std_fit_time': array([2.03639987e+00, 6.10184259e-02, 1.60443193e-01, 1.33750626e-01,\n        4.30518051e-01, 2.67468068e-03, 1.68977035e-01, 7.51063215e-04,\n        1.31709803e+00, 1.86357782e-01]),\n 'mean_score_time': array([0.00439873, 0.00698109, 0.00497928, 0.00560608, 0.0057806 ,\n        0.        , 0.00558486, 0.        , 0.00619125, 0.0073925 ]),\n 'std_score_time': array([0.00050291, 0.00126   , 0.00125973, 0.00134722, 0.00182887,\n        0.        , 0.00135442, 0.        , 0.00132193, 0.00330832]),\n 'param_solver': masked_array(data=['saga', 'saga', 'lbfgs', 'saga', 'saga', 'lbfgs',\n                    'saga', 'lbfgs', 'saga', 'lbfgs'],\n              mask=[False, False, False, False, False, False, False, False,\n                    False, False],\n        fill_value='?',\n             dtype=object),\n 'param_penalty': masked_array(data=['l1', 'l2', 'l2', 'l2', 'l1', 'l1', 'l2', 'l1', 'l1',\n                    'l2'],\n              mask=[False, False, False, False, False, False, False, False,\n                    False, False],\n        fill_value='?',\n             dtype=object),\n 'param_C': masked_array(data=[5, 5, 6, 1, 2, 3, 7, 2, 4, 7],\n              mask=[False, False, False, False, False, False, False, False,\n                    False, False],\n        fill_value='?',\n             dtype=object),\n 'params': [{'solver': 'saga', 'penalty': 'l1', 'C': 5},\n  {'solver': 'saga', 'penalty': 'l2', 'C': 5},\n  {'solver': 'lbfgs', 'penalty': 'l2', 'C': 6},\n  {'solver': 'saga', 'penalty': 'l2', 'C': 1},\n  {'solver': 'saga', 'penalty': 'l1', 'C': 2},\n  {'solver': 'lbfgs', 'penalty': 'l1', 'C': 3},\n  {'solver': 'saga', 'penalty': 'l2', 'C': 7},\n  {'solver': 'lbfgs', 'penalty': 'l1', 'C': 2},\n  {'solver': 'saga', 'penalty': 'l1', 'C': 4},\n  {'solver': 'lbfgs', 'penalty': 'l2', 'C': 7}],\n 'split0_test_score': array([0.8492, 0.8674, 0.8686, 0.8688, 0.8652,    nan, 0.867 ,    nan,\n        0.8562, 0.8676]),\n 'split1_test_score': array([0.8384, 0.8422, 0.8404, 0.8548, 0.8618,    nan, 0.8362,    nan,\n        0.8432, 0.8362]),\n 'split2_test_score': array([0.838 , 0.8502, 0.849 , 0.8546, 0.8536,    nan, 0.8476,    nan,\n        0.8404, 0.8476]),\n 'split3_test_score': array([0.8462, 0.8542, 0.853 , 0.8566, 0.8586,    nan, 0.8512,    nan,\n        0.8486, 0.8512]),\n 'split4_test_score': array([0.8608, 0.866 , 0.8646, 0.8706, 0.8676,    nan, 0.8634,    nan,\n        0.8636, 0.8636]),\n 'mean_test_score': array([0.84652, 0.856  , 0.85512, 0.86108, 0.86136,     nan, 0.85308,\n            nan, 0.8504 , 0.85324]),\n 'std_test_score': array([0.00836335, 0.00956326, 0.01029765, 0.00709546, 0.0049338 ,\n               nan, 0.01112446,        nan, 0.00852009, 0.01131258]),\n 'rank_test_score': array([ 8,  3,  4,  2,  1,  9,  6, 10,  7,  5])}"
     },
     "metadata": {},
     "execution_count": 90
    }
   ],
   "source": [
    "search.cv_results_"
   ]
  },
  {
   "cell_type": "markdown",
   "metadata": {},
   "source": [
    "-----"
   ]
  },
  {
   "cell_type": "code",
   "execution_count": 82,
   "metadata": {},
   "outputs": [
    {
     "output_type": "execute_result",
     "data": {
      "text/plain": "0.8318"
     },
     "metadata": {},
     "execution_count": 82
    }
   ],
   "source": [
    "clf = MultinomialNB(alpha=2.6)\n",
    "clf.fit(X_train_tfv, y_train_p)\n",
    "predictions = clf.predict(X_test_tfv)\n",
    "accuracy_score(y_test_p, predictions)"
   ]
  },
  {
   "cell_type": "code",
   "execution_count": 83,
   "metadata": {},
   "outputs": [
    {
     "output_type": "execute_result",
     "data": {
      "text/plain": "0.898"
     },
     "metadata": {},
     "execution_count": 83
    }
   ],
   "source": [
    "clf = MultinomialNB(alpha=2.6)\n",
    "clf.fit(X_train_tfv, y_train_p)\n",
    "predictions = clf.predict(X_train_tfv)\n",
    "accuracy_score(y_train_p, predictions)"
   ]
  },
  {
   "cell_type": "markdown",
   "metadata": {},
   "source": [
    "-----"
   ]
  },
  {
   "cell_type": "code",
   "execution_count": 109,
   "metadata": {},
   "outputs": [
    {
     "output_type": "execute_result",
     "data": {
      "text/plain": "0.8476"
     },
     "metadata": {},
     "execution_count": 109
    }
   ],
   "source": [
    "rfc = RandomForestClassifier(n_estimators=200, min_samples_leaf=5, min_samples_split=5, max_depth=80, bootstrap=False, criterion='entropy', n_jobs=-1, random_state=42)\n",
    "rfc.fit(X_train_tfv, y_train_p)\n",
    "predictions = rfc.predict(X_test_tfv)\n",
    "accuracy_score(y_test_p, predictions)"
   ]
  },
  {
   "cell_type": "code",
   "execution_count": 95,
   "metadata": {},
   "outputs": [
    {
     "output_type": "execute_result",
     "data": {
      "text/plain": "0.98536"
     },
     "metadata": {},
     "execution_count": 95
    }
   ],
   "source": [
    "rfc = RandomForestClassifier(n_estimators=100, min_samples_leaf=4, min_samples_split=5, max_depth=80, bootstrap=False, criterion='entropy', n_jobs=-1)\n",
    "rfc.fit(X_train_tfv, y_train_p)\n",
    "predictions = rfc.predict(X_train_tfv)\n",
    "accuracy_score(y_train_p, predictions)"
   ]
  },
  {
   "cell_type": "code",
   "execution_count": 91,
   "metadata": {},
   "outputs": [],
   "source": [
    "base_clf = RandomForestClassifier(n_estimators=20, criterion='entropy', n_jobs=-1, random_state=42)\n",
    "params = dict(max_depth=range(10, 100, 10), min_samples_split = [2, 5, 10], min_samples_leaf = [1, 2, 4], max_features = ['auto', 'sqrt'], bootstrap = [True, False])\n",
    "clf = RandomizedSearchCV(base_clf, params, random_state=0, scoring='accuracy')\n",
    "search = clf.fit(X_train_tfv, y_train_p)"
   ]
  },
  {
   "cell_type": "code",
   "execution_count": 92,
   "metadata": {},
   "outputs": [
    {
     "output_type": "execute_result",
     "data": {
      "text/plain": "0.8074"
     },
     "metadata": {},
     "execution_count": 92
    }
   ],
   "source": [
    "search.best_score_"
   ]
  },
  {
   "cell_type": "code",
   "execution_count": 93,
   "metadata": {},
   "outputs": [
    {
     "output_type": "execute_result",
     "data": {
      "text/plain": "{'min_samples_split': 5,\n 'min_samples_leaf': 4,\n 'max_features': 'auto',\n 'max_depth': 80,\n 'bootstrap': False}"
     },
     "metadata": {},
     "execution_count": 93
    }
   ],
   "source": [
    "search.best_params_"
   ]
  },
  {
   "cell_type": "markdown",
   "metadata": {},
   "source": [
    "-----"
   ]
  },
  {
   "cell_type": "code",
   "execution_count": 8,
   "metadata": {},
   "outputs": [
    {
     "output_type": "execute_result",
     "data": {
      "text/plain": "0.3624"
     },
     "metadata": {},
     "execution_count": 8
    }
   ],
   "source": [
    "rfc = RandomForestClassifier(n_estimators=100, min_samples_leaf=4, min_samples_split=5, max_depth=80, bootstrap=False, criterion='entropy', n_jobs=-1)\n",
    "rfc.fit(X_train_tfv, y_train_r)\n",
    "predictions = rfc.predict(X_test_tfv)\n",
    "accuracy_score(y_test_r, predictions)"
   ]
  },
  {
   "cell_type": "code",
   "execution_count": 10,
   "metadata": {},
   "outputs": [
    {
     "output_type": "execute_result",
     "data": {
      "text/plain": "array([10,  1,  1, ..., 10, 10, 10], dtype=int64)"
     },
     "metadata": {},
     "execution_count": 10
    }
   ],
   "source": []
  },
  {
   "cell_type": "code",
   "execution_count": 8,
   "metadata": {},
   "outputs": [
    {
     "output_type": "execute_result",
     "data": {
      "text/plain": "0.37184"
     },
     "metadata": {},
     "execution_count": 8
    }
   ],
   "source": [
    "rfc = RandomForestClassifier(n_estimators=150, min_samples_leaf=4, min_samples_split=5, max_depth=100, bootstrap=False, criterion='gini', n_jobs=-1)\n",
    "rfc.fit(X_train_tfv, y_train_r)\n",
    "predictions = rfc.predict(X_test_tfv)\n",
    "accuracy_score(y_test_r, predictions)"
   ]
  },
  {
   "cell_type": "code",
   "execution_count": 9,
   "metadata": {},
   "outputs": [
    {
     "output_type": "execute_result",
     "data": {
      "text/plain": "0.37184"
     },
     "metadata": {},
     "execution_count": 9
    }
   ],
   "source": [
    "f1_score(y_test_r, predictions, average='micro')"
   ]
  },
  {
   "cell_type": "code",
   "execution_count": 15,
   "metadata": {},
   "outputs": [
    {
     "output_type": "execute_result",
     "data": {
      "text/plain": "0.42168"
     },
     "metadata": {},
     "execution_count": 15
    }
   ],
   "source": [
    "logreg = LogisticRegression()\n",
    "ovr = OneVsRestClassifier(logreg)\n",
    "ovr.fit(X_train_tfv, y_train_r)\n",
    "predictions = ovr.predict(X_test_tfv)\n",
    "accuracy_score(y_test_r, predictions)"
   ]
  },
  {
   "cell_type": "code",
   "execution_count": 16,
   "metadata": {},
   "outputs": [
    {
     "output_type": "execute_result",
     "data": {
      "text/plain": "0.2805836556149856"
     },
     "metadata": {},
     "execution_count": 16
    }
   ],
   "source": [
    "f1_score(y_test_r, predictions, average='macro')"
   ]
  },
  {
   "cell_type": "code",
   "execution_count": null,
   "metadata": {},
   "outputs": [],
   "source": []
  }
 ],
 "metadata": {
  "language_info": {
   "codemirror_mode": {
    "name": "ipython",
    "version": 3
   },
   "file_extension": ".py",
   "mimetype": "text/x-python",
   "name": "python",
   "nbconvert_exporter": "python",
   "pygments_lexer": "ipython3",
   "version": "3.6.7-final"
  },
  "orig_nbformat": 2,
  "kernelspec": {
   "name": "python36764bitbe546299d82448a394e90b311f92f7eb",
   "display_name": "Python 3.6.7 64-bit"
  }
 },
 "nbformat": 4,
 "nbformat_minor": 2
}